{
 "cells": [
  {
   "cell_type": "code",
   "execution_count": 9,
   "id": "8165b316",
   "metadata": {},
   "outputs": [
    {
     "name": "stdout",
     "output_type": "stream",
     "text": [
      "निश्चित रूप से टिप्पणी अनुभाग में अपनी प्रतिक्रिया साझा करें।\n",
      "तो भले ही यह एक बड़ा वीडियो है, मैं स्पष्ट रूप से सभी उत्पादों का उल्लेख करूंगा।\n",
      "मैं अपने बैग का इंतजार कर रहा था।\n"
     ]
    }
   ],
   "source": [
    "from googletrans import Translator, LANGUAGES\n",
    "\n",
    "# Function to translate English text to Hinglish\n",
    "def translate_to_hinglish(text):\n",
    "    translator = Translator()\n",
    "    translation = translator.translate(text, src='en', dest='hi')\n",
    "    return translation.text\n",
    "\n",
    "# Translate the given English statements to Hinglish\n",
    "english_statement_1 = \"Definitely share your feedback in the comment section.\"\n",
    "english_statement_2 = \"So even if it's a big video, I will clearly mention all the products.\"\n",
    "english_statement_3 = \"I was waiting for my bag.\"\n",
    "\n",
    "hinglish_statement_1 = translate_to_hinglish(english_statement_1)\n",
    "hinglish_statement_2 = translate_to_hinglish(english_statement_2)\n",
    "hinglish_statement_3 = translate_to_hinglish(english_statement_3)\n",
    "\n",
    "# Print the translated Hinglish statements\n",
    "print(hinglish_statement_1)\n",
    "print(hinglish_statement_2)\n",
    "print(hinglish_statement_3)\n"
   ]
  },
  {
   "cell_type": "code",
   "execution_count": null,
   "id": "576a0c78",
   "metadata": {},
   "outputs": [],
   "source": []
  }
 ],
 "metadata": {
  "kernelspec": {
   "display_name": "Python 3 (ipykernel)",
   "language": "python",
   "name": "python3"
  },
  "language_info": {
   "codemirror_mode": {
    "name": "ipython",
    "version": 3
   },
   "file_extension": ".py",
   "mimetype": "text/x-python",
   "name": "python",
   "nbconvert_exporter": "python",
   "pygments_lexer": "ipython3",
   "version": "3.11.4"
  }
 },
 "nbformat": 4,
 "nbformat_minor": 5
}
